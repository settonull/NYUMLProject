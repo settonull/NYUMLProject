{
 "cells": [
  {
   "cell_type": "code",
   "execution_count": 4,
   "metadata": {},
   "outputs": [
    {
     "name": "stdout",
     "output_type": "stream",
     "text": [
      "finished 2013\n",
      "finished 2014\n",
      "finished 2015\n",
      "finished 2016\n"
     ]
    }
   ],
   "source": [
    "#compute the strneght of schedule - to do that we need two things - \n",
    "#the record (wins/total) for each team, and the list of teams a team has played up till then\n",
    "\n",
    "#each week \n",
    "#for each game for each team (H/A)\n",
    "#TR = wins/total\n",
    "#OR = avg the TR for every team in \"played-list\"\n",
    "#OOR= for ever team in \"played-list\" average the average of their OR\n",
    "\n",
    "#BCS SOS = (2OR + OOR )/3\n",
    "#RPI = .25 * TR + .5 * OR + .25 * OOR\n",
    "\n",
    "#2nd pass - update wins, total, opponets list\n",
    "\n",
    "\n",
    "class TeamRecord:\n",
    "    def __init__(self, wins, total_games, opponents):\n",
    "        self.wins = wins\n",
    "        self.total_games = total_games\n",
    "        self.opponents = opponents\n",
    "    \n",
    "    def __init__(self):\n",
    "        self.wins = 0\n",
    "        self.total_games = 0\n",
    "        self.opponents = []\n",
    "        \n",
    "    def __str__(self):\n",
    "        return str(self.wins) + \":\" + str(self.total_games) + \":\" + str(self.opponents)\n",
    "\n",
    "def getTeam(recordList, teamid):\n",
    "    \n",
    "    if not teamid in recordList:\n",
    "        team = TeamRecord()\n",
    "        recordList[teamid] = team\n",
    "    else:\n",
    "        team = recordList[teamid]\n",
    "    return team\n",
    "\n",
    "def getRecord(team):\n",
    "    return 0 if team.total_games == 0 else team.wins / team.total_games\n",
    "\n",
    "def getRecordByID(recordList, teamID):\n",
    "    team = getTeam(recordList, teamID)\n",
    "    return getRecord(team)\n",
    "\n",
    "def getORecord(recordList, team):\n",
    "    total_record = 0\n",
    "    for opp in team.opponents:\n",
    "        total_record = getRecordByID(recordList, opp)\n",
    "    return 0 if len(team.opponents) == 0 else total_record / len(team.opponents)\n",
    "\n",
    "def getOORecord(recordList, team):\n",
    "    total_record = 0\n",
    "    for opp in team.opponents:\n",
    "        total_record = getORecord(recordList, getTeam(recordList, opp))\n",
    "    return 0 if len(team.opponents) == 0 else total_record / len(team.opponents)\n",
    "\n",
    "    \n",
    "    \n",
    "def updateRecords(recordList, games):\n",
    "    \n",
    "    for game in games.itertuples():\n",
    "        home = getTeam(recordList, game.HomeID)\n",
    "        away = getTeam(recordList, game.AwayID)\n",
    "\n",
    "        home.total_games += 1\n",
    "        away.total_games += 1\n",
    "        \n",
    "        if (game.HomeFinal > game.VisFinal): home.wins +=1 \n",
    "        else: away.wins += 1\n",
    "        \n",
    "        home.opponents.append(game.AwayID)\n",
    "        away.opponents.append(game.HomeID)\n",
    "        \n",
    "\n",
    "def computeTeamSOS(recordList, team):\n",
    "    teamRecord = getRecord(team)\n",
    "    teamOppRecord = getORecord(recordList, team)\n",
    "    teamOppOppRecord = getOORecord(recordList, team)\n",
    "        \n",
    "    teamBCSSOS = (2 * teamOppRecord + teamOppOppRecord) / 3\n",
    "    teamRPI = .25 * teamRecord + .5 * teamOppRecord + .25 * teamOppOppRecord\n",
    "    \n",
    "    return teamBCSSOS, teamRPI\n",
    "        \n",
    "def computeWeekSOS(recordList, games):\n",
    "    \n",
    "    results = []\n",
    "    for game in games.itertuples():\n",
    "        home = getTeam(recordList, game.HomeID)\n",
    "        away = getTeam(recordList, game.AwayID)\n",
    "            \n",
    "        homeBCSSOS, homeRPI = computeTeamSOS(recordList, home)\n",
    "        awayBCSSOS, awayRPI = computeTeamSOS(recordList, home)\n",
    "            \n",
    "        res = {}\n",
    "        res['HomeID'] = game.HomeID\n",
    "        res['AwayID'] = game.AwayID\n",
    "        res['Start'] = game.Start\n",
    "        res['HomeBCSSOS'] = homeBCSSOS\n",
    "        res['HomeRPI'] = homeRPI\n",
    "        res['AwayBCSSOS'] = awayBCSSOS\n",
    "        res['AwayRPI'] = awayRPI\n",
    "        \n",
    "        results.append(res)\n",
    "        \n",
    "    return results\n",
    "        \n",
    "\n",
    "import os\n",
    "import pandas as pd\n",
    "import numpy as np\n",
    "import csv\n",
    "\n",
    "\n",
    "for date in (\"2013\", \"2014\", \"2015\", \"2016\"):\n",
    "\n",
    "    root_dir = os.getcwd()\n",
    "    allGames = pd.read_csv(os.path.join(root_dir, \"data\", \"allScores\", \"NCAAAllScores\" + date + \"_Week.csv\"))\n",
    "\n",
    "    masterRecordList = {}\n",
    "    all_results = []\n",
    "\n",
    "    for weeknum in range (0,25): #change this to actual week values\n",
    "\n",
    "        week = allGames[allGames['Week'] == weeknum]\n",
    "\n",
    "        all_results += computeWeekSOS(masterRecordList, week) \n",
    "        updateRecords(masterRecordList, week)\n",
    "\n",
    "\n",
    "\n",
    "    keys = all_results[0].keys()\n",
    "    with open('BCS-'+date+'.csv', 'w', newline='') as output_file:\n",
    "        dict_writer = csv.DictWriter(output_file, keys)\n",
    "        dict_writer.writeheader()\n",
    "        dict_writer.writerows(all_results)\n",
    "\n",
    "    print(\"finished\", date)\n"
   ]
  },
  {
   "cell_type": "code",
   "execution_count": 110,
   "metadata": {
    "collapsed": true
   },
   "outputs": [],
   "source": [
    "r = computeWeekSOS(masterRecordList, allGames[allGames['Week'] == 2] )"
   ]
  },
  {
   "cell_type": "code",
   "execution_count": 106,
   "metadata": {
    "collapsed": true
   },
   "outputs": [],
   "source": [
    "updateRecords(masterRecordList, allGames[allGames['Week'] == 1])"
   ]
  },
  {
   "cell_type": "code",
   "execution_count": 109,
   "metadata": {},
   "outputs": [
    {
     "name": "stdout",
     "output_type": "stream",
     "text": [
      "0:1:[2309]\n"
     ]
    }
   ],
   "source": [
    "print (masterRecordList[2335])"
   ]
  },
  {
   "cell_type": "code",
   "execution_count": 122,
   "metadata": {
    "collapsed": true
   },
   "outputs": [],
   "source": [
    "\n",
    "    "
   ]
  },
  {
   "cell_type": "code",
   "execution_count": 121,
   "metadata": {},
   "outputs": [
    {
     "data": {
      "text/plain": [
       "dict_keys(['name', 'age', 'weight'])"
      ]
     },
     "execution_count": 121,
     "metadata": {},
     "output_type": "execute_result"
    }
   ],
   "source": [
    " toCSV[0].keys()"
   ]
  }
 ],
 "metadata": {
  "kernelspec": {
   "display_name": "Python 3",
   "language": "python",
   "name": "python3"
  },
  "language_info": {
   "codemirror_mode": {
    "name": "ipython",
    "version": 3
   },
   "file_extension": ".py",
   "mimetype": "text/x-python",
   "name": "python",
   "nbconvert_exporter": "python",
   "pygments_lexer": "ipython3",
   "version": "3.6.5"
  }
 },
 "nbformat": 4,
 "nbformat_minor": 2
}
