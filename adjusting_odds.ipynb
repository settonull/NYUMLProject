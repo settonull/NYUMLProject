{
 "cells": [
  {
   "cell_type": "code",
   "execution_count": 1,
   "metadata": {},
   "outputs": [],
   "source": [
    "import numpy as np\n",
    "import pandas as pd\n",
    "from datetime import *"
   ]
  },
  {
   "cell_type": "code",
   "execution_count": 20,
   "metadata": {},
   "outputs": [],
   "source": [
    "odds = pd.read_csv('data/oddsAdjusted.csv')\n",
    "\n",
    "scores_list = [0,0,0,0]\n",
    "\n",
    "for i, year in enumerate(range(2013,2017)):\n",
    "    scores_list[i] = pd.read_csv('data/scores_pe/scores_pythElo{}.csv'.format(year))\n",
    "    scores_list[i]['SpreadMed'] = scores_list[i][['SpreadMirage','SpreadPinnacle','SpreadSportsbet','SpreadWestgate','SpreadStation','SpreadSIA','SpreadSBG', 'SpreadWag']].median(axis=1)\n",
    "\n",
    "train = pd.concat(scores_list[0:3])\n",
    "test = scores_list[-1]"
   ]
  },
  {
   "cell_type": "code",
   "execution_count": 23,
   "metadata": {
    "scrolled": true
   },
   "outputs": [],
   "source": [
    "train['HomePythProb'] = (train['HomePythPct'] - (train['HomePythPct'] * train['VisPythPct']))/ \\\n",
    "    (train['HomePythPct'] + train['VisPythPct'] - 2 * (train['HomePythPct'] * train['VisPythPct']))\n",
    "train['VisPythProb'] = (train['VisPythPct'] - (train['VisPythPct'] * train['HomePythPct']))/ \\\n",
    "    (train['VisPythPct'] + train['HomePythPct'] - 2 * (train['VisPythPct'] * train['HomePythPct']))\n",
    "    \n",
    "test['HomePythProb'] = (test['HomePythPct'] - (test['HomePythPct'] * test['VisPythPct']))/ \\\n",
    "    (test['HomePythPct'] + test['VisPythPct'] - 2 * (test['HomePythPct'] * test['VisPythPct']))\n",
    "test['VisPythProb'] = (test['VisPythPct'] - (test['VisPythPct'] * test['HomePythPct']))/ \\\n",
    "    (test['VisPythPct'] + test['HomePythPct'] - 2 * (test['VisPythPct'] * test['HomePythPct']))"
   ]
  },
  {
   "cell_type": "code",
   "execution_count": null,
   "metadata": {},
   "outputs": [],
   "source": [
    "['HomePtsF','HomePtsA','HomeWins','HomeGames','HomeWinPct','HomePtsFPG','HomePtsAPG','HomeDiffOD',\n",
    " 'VisPtsF','VisPtsA','VisWins','VisGames','VisWinPct','VisPtsFPG','VisPtsAPG','VisDiffOD',\n",
    " 'DiffPtsFPG','DiffPtsAPG']"
   ]
  },
  {
   "cell_type": "code",
   "execution_count": 41,
   "metadata": {
    "scrolled": true
   },
   "outputs": [
    {
     "data": {
      "text/plain": [
       "Week\n",
       "1.0      0.000000\n",
       "2.0     15.398058\n",
       "3.0     26.305373\n",
       "4.0     26.790685\n",
       "5.0     27.885241\n",
       "6.0     27.767751\n",
       "7.0     27.150230\n",
       "8.0     27.378685\n",
       "9.0     27.860027\n",
       "10.0    27.635616\n",
       "11.0    27.797824\n",
       "12.0    28.315481\n",
       "13.0    31.118653\n",
       "14.0    33.334579\n",
       "15.0    39.053956\n",
       "16.0    39.149930\n",
       "17.0    34.825725\n",
       "18.0    33.419872\n",
       "19.0    33.948413\n",
       "20.0    35.485561\n",
       "21.0    45.000000\n",
       "Name: HomePtsFG, dtype: float64"
      ]
     },
     "execution_count": 41,
     "metadata": {},
     "output_type": "execute_result"
    }
   ],
   "source": [
    "train.groupby('Week')['HomePtsFG'].mean()"
   ]
  },
  {
   "cell_type": "code",
   "execution_count": 25,
   "metadata": {},
   "outputs": [
    {
     "name": "stdout",
     "output_type": "stream",
     "text": [
      "train size: 10437\n",
      "test size: 3481\n",
      "Filled Median:  425.36342118725423\n"
     ]
    }
   ],
   "source": [
    "from sklearn.linear_model import *\n",
    "from sklearn.kernel_ridge import * \n",
    "from sklearn.metrics import mean_squared_error\n",
    "\n",
    "train2Sk = train[['HomePythProb','VisPythProb','Spread']].dropna()\n",
    "test2Sk = test[['HomePythProb','VisPythProb','Spread']].dropna()\n",
    "\n",
    "print('train size:', train2Sk.shape[0])\n",
    "print('test size:', test2Sk.shape[0])\n",
    "\n",
    "preds = LinearRegression().fit(train2Sk[['HomePythProb','VisPythProb']], train2Sk[['Spread']]).predict(test2Sk[['HomePythProb','VisPythProb']])\n",
    "print('Filled Median: ', mean_squared_error(test2Sk[['Spread']], preds))"
   ]
  },
  {
   "cell_type": "code",
   "execution_count": 40,
   "metadata": {},
   "outputs": [],
   "source": [
    "def team_spreadBias(team, prev_weeks):\n",
    "    prev_games = prev_weeks.loc[(prev_weeks['HomeID'] == team) | (prev_weeks['VisID'] == team)].reset_index(drop=True)\n",
    "    mask = prev_games['VisID'] == team\n",
    "    prev_games.loc[mask,'Spread'] = -1 * prev_games.loc[mask,'Spread']\n",
    "    prev_games.loc[mask,'SpreadMed'] = -1 * prev_games.loc[mask,'SpreadMed']\n",
    "    errSpread = prev_games.loc[:,'SpreadMed'] - prev_games.loc[:,'Spread']\n",
    "    return errSpread.mean()\n",
    "\n",
    "def update_teamSpreadBiases(teams, prev_weeks):\n",
    "    \n",
    "    teams['AvgErr'] = teams.index.to_series().apply(lambda x: team_spreadBias(x, prev_weeks))\n",
    "    teams['PlsMns'] = teams['AvgErr'] - teams['AvgErr'].mean()\n",
    "    return teams"
   ]
  },
  {
   "cell_type": "code",
   "execution_count": 36,
   "metadata": {},
   "outputs": [],
   "source": [
    "def spreads(teams, ind, teams_data): #Find pts scores, wins, games up to given week, for teams in a given game\n",
    "    \n",
    "    game = pd.Series([0.0 for x in range(len(ind))], index=ind) #pre-allocate array to return\n",
    "        \n",
    "    for i, team in enumerate(teams): #repeat for home and vis\n",
    "        pos = 'Home' if i == 0 else 'Vis'\n",
    "        \n",
    "        game['{}AvgErr'.format(pos)] =  teams_data.loc[team,'AvgErr'] #SAE\n",
    "        game['{}PlsMns'.format(pos)] =  teams_data.loc[team,'PlsMns'] #SAE\n",
    "    \n",
    "    return game\n",
    "\n",
    "def add_spreadBiases(scores): #initialize df for year\n",
    "\n",
    "    teams = pd.DataFrame(np.union1d(scores['HomeID'].unique(), scores['VisID'].unique()), columns=['Team'])\n",
    "    teams['AvgErr'] = np.nan\n",
    "    teams.set_index('Team', inplace=True)\n",
    "    \n",
    "    scores['SpreadMed'] = scores[['SpreadMirage','SpreadPinnacle','SpreadSportsbet','SpreadWestgate','SpreadStation','SpreadSIA','SpreadSBG', 'SpreadWag']].median(axis=1)\n",
    "    scores = scores.assign(HomeAvgErr=0,HomePlsMns=0,\n",
    "                           VisAvgErr=0,VisPlsMns=0) #init features in df\n",
    "    ind = ['HomeAvgErr','HomePlsMns','VisAvgErr','VisPlsMns'] #features to add\n",
    "    ind_prev = [['HomeID','VisID','SpreadMed','Spread']]\n",
    "    \n",
    "    scores_list = [group for _, group in scores.groupby('Week')] #split df by week\n",
    "    \n",
    "    for i, score in enumerate(scores_list[1:]): #iterate through weeks, ignore Week1\n",
    "        i += 1\n",
    "        prev_weeks = pd.concat(scores_list[:i]) #get df of prev weeks\n",
    "        teams_data = update_teamSpreadBiases(teams, prev_weeks)\n",
    "        scores_list[i][ind] = scores_list[i].apply(lambda x: spreads((x['HomeID'],x['VisID']),ind,teams_data), axis = 1) #get pts,wins,games for every game in week \n",
    "    scores = pd.concat(scores_list) #rebuild df\n",
    "    \n",
    "    return scores"
   ]
  },
  {
   "cell_type": "code",
   "execution_count": 38,
   "metadata": {},
   "outputs": [],
   "source": [
    "teams = pd.DataFrame(np.union1d(train2013['HomeID'].unique(), train2013['VisID'].unique()), columns=['Team'])\n",
    "teams['AvgErr'] = np.nan\n",
    "teams.set_index('Team', inplace=True)\n",
    "teams = update_teamSpreadBiases(teams, train2013)"
   ]
  },
  {
   "cell_type": "code",
   "execution_count": null,
   "metadata": {},
   "outputs": [],
   "source": []
  },
  {
   "cell_type": "code",
   "execution_count": null,
   "metadata": {},
   "outputs": [],
   "source": []
  },
  {
   "cell_type": "code",
   "execution_count": null,
   "metadata": {},
   "outputs": [],
   "source": []
  },
  {
   "cell_type": "code",
   "execution_count": 99,
   "metadata": {},
   "outputs": [],
   "source": [
    "odds = pd.read_csv('data/oddsAdjusted.csv')\n",
    "\n",
    "scores_list = [0,0,0,0]\n",
    "\n",
    "for i, year in enumerate(range(2013,2017)):\n",
    "    scores_list[i] = pd.read_csv('data/scores_pe/scores_pythElo{}.csv'.format(year))\n",
    "    snoozle_odds = pd.read_csv('data/snoozle/odds_fixed/odds{}.csv'.format(year))\n",
    "    snoozle_stats = pd.read_csv('data/snoozle/stats_fixed/stats{}.csv'.format(year))\n",
    "    scores_list[i] = pd.merge(scores_list[i], snoozle_odds.drop(['Home','Visiter'], axis=1), on=['HomeID', 'VisID', 'Month', 'Day', 'Year'], how='left')\n",
    "    scores_list[i] = pd.merge(scores_list[i], snoozle_stats.drop(['Home','Visiter'], axis=1), on=['HomeID', 'VisID', 'Month', 'Day', 'Year'], how='left')\n",
    "    scores_list[i] = pd.merge(scores_list[i], odds, on=['Year','Month','Day','Home','Visiter'], how='left')\n",
    "    scores_list[i]['SpreadMed'] = scores_list[i][['SpreadMirage','SpreadPinnacle','SpreadSportsbet','SpreadWestgate','SpreadStation','SpreadSIA','SpreadSBG', 'SpreadWag']].median(axis=1)\n",
    "\n"
   ]
  },
  {
   "cell_type": "code",
   "execution_count": 47,
   "metadata": {
    "scrolled": true
   },
   "outputs": [],
   "source": [
    "#before_ind = ['User','SpreadMirage','SpreadPinnacle','SpreadSportsbet','SpreadWestgate','SpreadStation','SpreadSIA','SpreadSBG','SpreadWag','EloSpread']\n",
    "before_ind = ['User','SpreadMirage','SpreadPinnacle','SpreadSportsbet','SpreadWestgate','SpreadStation','SpreadSIA','SpreadSBG','SpreadWag']\n",
    "spreads_ind = ['SpreadMirage','SpreadPinnacle','SpreadSportsbet','SpreadWestgate','SpreadStation','SpreadSIA','SpreadSBG','SpreadWag']\n",
    "\n",
    "#def format_user(month, day, home, vis, home_pyth, vis_pyth):\n",
    "#    if home_pyth - vis_pyth >= 0:\n",
    "#        return '{}-{}-{}|{}'.format(month, day, home, vis)\n",
    "#    else:\n",
    "#        return '{}-{}-{}|{}'.format(month, day, vis, home)\n",
    "\n",
    "for i, year in enumerate(range(2013,2017)):\n",
    "    before_rec = scores_list[i]\n",
    "    #before_rec = before_rec.assign(User=before_rec.apply(lambda x: format_user(x['Month'], x['Day'], x['HomeID'],x['VisID'],x['HomePythWins'],x['VisPythWins']), axis=1))\n",
    "    before_rec = before_rec.assign(User=before_rec.apply(lambda x: '{}|{}'.format(x['HomeID'],x['VisID']), axis=1))\n",
    "    before_rec = before_rec[before_ind].replace(0, np.nan)\n",
    "    before_rec = pd.melt(before_rec, id_vars='User', var_name='Item')\n",
    "    #before_rec['value'] = before_rec['value'].abs()\n",
    "    before_rec.to_csv('data/rec/before_dubIndex/data{}.csv'.format(year), index=False)\n"
   ]
  },
  {
   "cell_type": "code",
   "execution_count": 49,
   "metadata": {
    "scrolled": true
   },
   "outputs": [],
   "source": [
    "rec_list, c_list = [0,0,0,0], [0,0,0,0]\n",
    "casinos = ['Spread{}'.format(casino) for casino in ['Mirage','Pinnacle','Sportsbet','Westgate','Station','SIA','SBG','Wag']] \n",
    "#casinos.append('EloSpread')\n",
    "#after_ind = ['Month', 'Day', 'HomeID', 'VisID']\n",
    "after_ind = ['HomeID', 'VisID']\n",
    "\n",
    "'''def unformat_user(user, value, scores):\n",
    "    split1 = user.split('-')\n",
    "    split2 = split1[2].split('|')\n",
    "    month, day = int(float(split1[0])), int(float(split1[1]))\n",
    "    tm1, tm2 = int(float(split2[0])), int(float(split2[1]))\n",
    "    value = int(value)\n",
    "    dates = scores.loc[(scores['Month']==month)&(scores['Day']==day)]\n",
    "    if dates[(dates['HomeID']==tm1)&(dates['VisID']==tm2)].shape[0] == 0:\n",
    "        return pd.Series([month, day, tm2, tm1, value], index=['Month', 'Day', 'VisID', 'HomeID', 'rating'])\n",
    "    else:\n",
    "        return pd.Series([month, day, tm1, tm2, -value], index=['Month', 'Day', 'VisID', 'HomeID', 'rating'])\n",
    "'''\n",
    "\n",
    "for i, year in enumerate(range(2013,2017)):\n",
    "    train_recs = pd.read_csv('data/rec/after_dubIndex/data{}.csv'.format(year))\n",
    "    #train_recs = train_recs.assign(Month=0, Day=0, HomeID=0, VisID=0)\n",
    "    #train_recs[['Month','Day','HomeID','VisID','rating']] = train_recs.apply(lambda x: unformat_user(x['user'], x['rating'], scores_list[i]), axis=1)\n",
    "    #train_recs.drop('user', axis=1)\n",
    "    train_recs = train_recs.assign(HomeID=train_recs.apply(lambda x: int(x['user'].split('|')[0]), axis=1), \n",
    "                                   VisID=train_recs.apply(lambda x: int(x['user'].split('|')[1]), axis=1))\n",
    "    \n",
    "    rec_list[i] = pd.DataFrame(train_recs.pivot_table(values='rating', index=after_ind, columns='item').to_records())\n",
    "    rec_list[i]['SpreadRec'] = rec_list[i][casinos].median(axis=1)\n",
    "    rec_list[i].drop(casinos, axis=1, inplace=True)\n",
    "    c_list[i] = pd.merge(scores_list[i], rec_list[i], on=after_ind, how='left')\n",
    "    c_list[i]['SpreadMed'] = c_list[i]['SpreadMed'].fillna(c_list[i]['SpreadRec'])\n",
    "    \n",
    "train2 = pd.concat(c_list[0:3])\n",
    "test2 = c_list[-1]\n"
   ]
  },
  {
   "cell_type": "code",
   "execution_count": 86,
   "metadata": {
    "scrolled": true
   },
   "outputs": [
    {
     "name": "stdout",
     "output_type": "stream",
     "text": [
      "Filled Median:  431.8453921968406\n"
     ]
    }
   ],
   "source": [
    "train2['SpreadPyth'] = (train2['HomePythWins'] - train2['VisPythWins']) * 2 + 3.5\n",
    "test2['SpreadPyth'] = (test2['HomePythWins'] - test2['VisPythWins']) * 2 + 3.5\n",
    "\n",
    "preds = LinearRegression().fit(train2[['SpreadPyth']], train2[['Spread']]).predict(test2[['SpreadPyth']])\n",
    "print('Filled Median: ', mean_squared_error(test2[['Spread']], preds))"
   ]
  },
  {
   "cell_type": "code",
   "execution_count": null,
   "metadata": {},
   "outputs": [],
   "source": []
  },
  {
   "cell_type": "code",
   "execution_count": 59,
   "metadata": {
    "scrolled": true
   },
   "outputs": [
    {
     "name": "stdout",
     "output_type": "stream",
     "text": [
      "train size: 2525\n",
      "test size: 868\n",
      "Filled Median:  275.76358859569933\n",
      "Filled Elo:  317.42894488097085\n",
      "Rec:  278.11026681974096\n"
     ]
    }
   ],
   "source": [
    "from sklearn.linear_model import *\n",
    "from sklearn.kernel_ridge import * \n",
    "from sklearn.metrics import mean_squared_error\n",
    "\n",
    "train2Sk = train2[['SpreadRec','SpreadMed','EloSpread','Spread']].dropna()\n",
    "test2Sk = test2[['SpreadRec','SpreadMed','EloSpread','Spread']].dropna()\n",
    "\n",
    "print('train size:', train2Sk.shape[0])\n",
    "print('test size:', test2Sk.shape[0])\n",
    "\n",
    "preds = LinearRegression().fit(train2Sk[['SpreadMed']], train2Sk[['Spread']]).predict(test2Sk[['SpreadMed']])\n",
    "print('Filled Median: ', mean_squared_error(test2Sk[['Spread']], preds))\n",
    "\n",
    "preds = LinearRegression().fit(train2Sk[['EloSpread']], train2Sk[['Spread']]).predict(test2Sk[['EloSpread']])\n",
    "print('Filled Elo: ', mean_squared_error(test2Sk[['Spread']], preds))\n",
    "\n",
    "preds = LinearRegression().fit(train2Sk[['SpreadRec']], train2Sk[['Spread']]).predict(test2Sk[['SpreadRec']])\n",
    "print('Rec: ', mean_squared_error(test2Sk[['Spread']], preds))"
   ]
  },
  {
   "cell_type": "code",
   "execution_count": 51,
   "metadata": {},
   "outputs": [],
   "source": [
    "scores2013 = add_ptsWinsGames(scores2013)"
   ]
  }
 ],
 "metadata": {
  "kernelspec": {
   "display_name": "Python 3",
   "language": "python",
   "name": "python3"
  },
  "language_info": {
   "codemirror_mode": {
    "name": "ipython",
    "version": 3
   },
   "file_extension": ".py",
   "mimetype": "text/x-python",
   "name": "python",
   "nbconvert_exporter": "python",
   "pygments_lexer": "ipython3",
   "version": "3.6.4"
  }
 },
 "nbformat": 4,
 "nbformat_minor": 2
}
