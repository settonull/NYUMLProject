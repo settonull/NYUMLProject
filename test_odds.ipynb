{
 "cells": [
  {
   "cell_type": "code",
   "execution_count": null,
   "metadata": {
    "collapsed": true
   },
   "outputs": [],
   "source": [
    "import numpy as np\n",
    "import pandas as pd\n",
    "import os\n",
    "import math\n",
    "from sklearn.cross_validation import train_test_split"
   ]
  },
  {
   "cell_type": "code",
   "execution_count": null,
   "metadata": {},
   "outputs": [],
   "source": [
    "root_dir = os.getcwd()\n",
    "data_final = pd.read_csv(os.path.join(root_dir, \"data\",  \"NCAAF_Odds.csv\"))\n",
    "#data_final = data_final.dropna(subset=['Spread_Pinnacle'])\n",
    "spreads = data_final.filter(regex=\"Spread_\")\n",
    "m = spreads.mean(axis=1)\n",
    "for i, col in enumerate(spreads):\n",
    "    # using i allows for duplicate columns\n",
    "    # inplace *may* not always work here, so IMO the next line is preferred\n",
    "    # df.iloc[:, i].fillna(m, inplace=True)\n",
    "    spreads.iloc[:, i] = spreads.iloc[:, i].fillna(m)\n",
    "\n",
    "spreads['target_margin'] = data_final['HomeScore'] - data_final['AwayScore']\n",
    "\n",
    "spreads.dropna(axis=0, inplace=True)\n",
    "\n",
    "X_train, X_test, y_train, y_test = train_test_split(spreads.drop(['target_margin'], axis=1), spreads['target_margin'], test_size=0.33, random_state=42)\n"
   ]
  },
  {
   "cell_type": "code",
   "execution_count": null,
   "metadata": {},
   "outputs": [],
   "source": [
    "spreads"
   ]
  },
  {
   "cell_type": "code",
   "execution_count": null,
   "metadata": {
    "collapsed": true
   },
   "outputs": [],
   "source": [
    "from sklearn.linear_model import *\n",
    "from sklearn.model_selection import *\n",
    "from sklearn.metrics import *"
   ]
  },
  {
   "cell_type": "code",
   "execution_count": null,
   "metadata": {},
   "outputs": [],
   "source": [
    "from sklearn import svm\n",
    "from sklearn import tree\n",
    "\n",
    "lm = LinearRegression().fit(X_train, y_train)\n",
    "predictions = lm.predict(X_test)\n",
    "print(mean_squared_error(y_test, predictions))\n",
    "print(r2_score(y_test, predictions))\n",
    "\n",
    "model = Ridge (alpha = 5000).fit(X_train, y_train)\n",
    "predictions = model.predict(X_test)\n",
    "print(mean_squared_error(y_test, predictions))\n",
    "print(r2_score(y_test, predictions))\n"
   ]
  },
  {
   "cell_type": "code",
   "execution_count": null,
   "metadata": {
    "collapsed": true
   },
   "outputs": [],
   "source": []
  },
  {
   "cell_type": "code",
   "execution_count": null,
   "metadata": {
    "scrolled": true
   },
   "outputs": [],
   "source": [
    "import matplotlib.pyplot as plt\n",
    "\n",
    "ys = y_test.tolist()\n",
    "plt.plot(range(0, len(ys)), ys)\n",
    "plt.plot(range(0, len(predictions)), predictions)\n",
    "plt.show()"
   ]
  },
  {
   "cell_type": "code",
   "execution_count": null,
   "metadata": {
    "collapsed": true
   },
   "outputs": [],
   "source": []
  }
 ],
 "metadata": {
  "kernelspec": {
   "display_name": "Python 3",
   "language": "python",
   "name": "python3"
  },
  "language_info": {
   "codemirror_mode": {
    "name": "ipython",
    "version": 3
   },
   "file_extension": ".py",
   "mimetype": "text/x-python",
   "name": "python",
   "nbconvert_exporter": "python",
   "pygments_lexer": "ipython3",
   "version": "3.6.5"
  }
 },
 "nbformat": 4,
 "nbformat_minor": 2
}
