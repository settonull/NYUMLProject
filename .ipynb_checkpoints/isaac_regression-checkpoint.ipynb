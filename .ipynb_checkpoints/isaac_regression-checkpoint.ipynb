{
 "cells": [
  {
   "cell_type": "code",
   "execution_count": 64,
   "metadata": {},
   "outputs": [],
   "source": [
    "import numpy as np\n",
    "import pandas as pd\n",
    "\n",
    "from sklearn.linear_model import LinearRegression\n",
    "from sklearn.linear_model import RidgeRegression\n",
    "from sklearn.metrics import mean_squared_error\n",
    "\n",
    "import matplotlib.pyplot as plt\n",
    "%matplotlib inline\n"
   ]
  },
  {
   "cell_type": "code",
   "execution_count": 65,
   "metadata": {},
   "outputs": [],
   "source": [
    "ind = ['Season','Week','NeutralSite', 'Spread',  \n",
    "  'HomePtsF', 'HomePtsA', 'HomeWins', 'HomeWinPct',\n",
    "  'VisPtsF', 'VisPtsA', 'VisWins', 'VisWinPct',\n",
    "  'HomePythPct', 'HomePythWins', 'HomeLuck', 'HomePrevLuck',\n",
    "  'VisPythPct', 'VisPythWins', 'VisLuck', 'VisPrevLuck',\n",
    "  'HomeElo', 'VisElo', 'HomeEloProb', 'VisEloProb', 'EloSpread', 'HomeConf_NotD1', 'VisConf_NotD1']"
   ]
  },
  {
   "cell_type": "code",
   "execution_count": 66,
   "metadata": {
    "scrolled": true
   },
   "outputs": [],
   "source": [
    "data_list = [0,0,0]\n",
    "\n",
    "for i, year in  enumerate(range(2013, 2016)):\n",
    "    data_list[i] = pd.read_csv('data/scores_pe/scores_pythElo{}.csv'.format(year))[ind]\n",
    "\n",
    "\n",
    "train = pd.concat(data_list)\n",
    "train = train.loc[~((train['Season']==2013)&(train['Week']==4)),]\n",
    "test = pd.read_csv('data/scores_pe/scores_pythElo{}.csv'.format(2016))[ind]"
   ]
  },
  {
   "cell_type": "code",
   "execution_count": 67,
   "metadata": {
    "scrolled": true
   },
   "outputs": [
    {
     "data": {
      "text/plain": [
       "315.966771050733"
      ]
     },
     "execution_count": 67,
     "metadata": {},
     "output_type": "execute_result"
    }
   ],
   "source": [
    "preds = LinearRegression().fit(train.drop('Spread', axis=1), train[['Spread']]).predict(test.drop('Spread', axis=1))\n",
    "mean_squared_error(test[['Spread']], preds)"
   ]
  }
 ],
 "metadata": {
  "kernelspec": {
   "display_name": "Python 3",
   "language": "python",
   "name": "python3"
  },
  "language_info": {
   "codemirror_mode": {
    "name": "ipython",
    "version": 3
   },
   "file_extension": ".py",
   "mimetype": "text/x-python",
   "name": "python",
   "nbconvert_exporter": "python",
   "pygments_lexer": "ipython3",
   "version": "3.6.4"
  }
 },
 "nbformat": 4,
 "nbformat_minor": 2
}
