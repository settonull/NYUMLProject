{
 "cells": [
  {
   "cell_type": "code",
   "execution_count": null,
   "metadata": {
    "collapsed": true
   },
   "outputs": [],
   "source": [
    "import numpy as np\n",
    "import pandas as pd\n",
    "import os"
   ]
  },
  {
   "cell_type": "code",
   "execution_count": null,
   "metadata": {},
   "outputs": [],
   "source": [
    "root_dir = os.getcwd()\n",
    "raw_data = pd.read_csv(os.path.join(root_dir, \"data\", \"snoozle\", \"snoozle-combined.csv\"))\n",
    "SOS_data = pd.read_csv(os.path.join(root_dir, \"data\", \"BCS\", \"BCS-SOS.csv\"))\n",
    "\n",
    "raw_data.set_index([\"HomeID\", \"VisID\", \"Season\", \"Week\"], inplace= True)\n",
    "SOS_data.set_index([\"HomeID\", \"VisID\", \"Season\", \"Week\"], inplace = True)\n",
    "\n",
    "data_final = raw_data.join(SOS_data)\n",
    "\n",
    "\n",
    "data_final['target_margin'] = data_final['HomeFinal'] - data_final['VisFinal']\n",
    "\n",
    "X_train = data_final[(data_final.index.get_level_values(2) < 2017) & (data_final.index.get_level_values(3)  >= 4) & (data_final['conference_game'] )  ] [['HomeBCSSOS', 'HomeRPI', 'AwayBCSSOS', 'AwayRPI']]\n",
    "y_train = data_final[(data_final.index.get_level_values(2) <2017) & (data_final.index.get_level_values(3) >= 4) & (data_final['conference_game'] ) ]['target_margin']\n",
    "X_test = data_final[(data_final.index.get_level_values(2) == 2017) & (data_final.index.get_level_values(3) >= 4) & (data_final['conference_game'] ) ][['HomeBCSSOS', 'HomeRPI', 'AwayBCSSOS', 'AwayRPI']]\n",
    "y_test = data_final[(data_final.index.get_level_values(2) == 2017) & (data_final.index.get_level_values(3) >= 4) & (data_final['conference_game'] ) ]['target_margin']\n"
   ]
  },
  {
   "cell_type": "code",
   "execution_count": null,
   "metadata": {},
   "outputs": [],
   "source": [
    "from sklearn.linear_model import LinearRegression, Ridge\n",
    "from sklearn.metrics import mean_squared_error, r2_score\n",
    "from sklearn import svm\n",
    "from sklearn import tree\n",
    "\n",
    "lm = LinearRegression().fit(X_train, y_train)\n",
    "predictions = lm.predict(X_test)\n",
    "print(mean_squared_error(y_test, predictions))\n",
    "print(r2_score(y_test, predictions))\n",
    "\n",
    "model = Ridge (alpha = 11).fit(X_train, y_train)\n",
    "predictions = model.predict(X_test)\n",
    "print(mean_squared_error(y_test, predictions))\n",
    "print(r2_score(y_test, predictions))\n"
   ]
  },
  {
   "cell_type": "code",
   "execution_count": null,
   "metadata": {
    "collapsed": true
   },
   "outputs": [],
   "source": [
    "#W/L\n",
    "425.78671687446473\n",
    "0.07032684838849756\n",
    "427.232158426417\n",
    "0.06717083588313355\n",
    "\n",
    "#points scored\n",
    "433.1923725915321\n",
    "0.05415715821879308\n",
    "433.1931031660318\n",
    "0.05415556306452762\n",
    "\n",
    "#point differential\n",
    "410.21505654291775\n",
    "0.1043263931430165\n",
    "410.21597143763995\n",
    "0.10432439553946049"
   ]
  }
 ],
 "metadata": {
  "kernelspec": {
   "display_name": "Python 3",
   "language": "python",
   "name": "python3"
  },
  "language_info": {
   "codemirror_mode": {
    "name": "ipython",
    "version": 3
   },
   "file_extension": ".py",
   "mimetype": "text/x-python",
   "name": "python",
   "nbconvert_exporter": "python",
   "pygments_lexer": "ipython3",
   "version": "3.6.5"
  }
 },
 "nbformat": 4,
 "nbformat_minor": 2
}
