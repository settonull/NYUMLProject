{
 "cells": [
  {
   "cell_type": "code",
   "execution_count": 1,
   "metadata": {
    "collapsed": true
   },
   "outputs": [],
   "source": [
    "import numpy as np\n",
    "import pandas as pd\n",
    "import os"
   ]
  },
  {
   "cell_type": "code",
   "execution_count": 2,
   "metadata": {},
   "outputs": [],
   "source": [
    "root_dir = os.getcwd()\n",
    "raw_data = pd.read_csv(os.path.join(root_dir, \"data\", \"ultimate\", \"ultimate_cfb_dataset.csv\"))\n",
    "SOS_data = pd.read_csv(os.path.join(root_dir, \"data\", \"BCS\", \"BCS-SOS.csv\"))\n",
    "\n",
    "raw_data.set_index([\"HomeID\", \"VisID\", \"Season\", \"Week\"], inplace= True)\n",
    "SOS_data.set_index([\"HomeID\", \"VisID\", \"Season\", \"Week\"], inplace = True)\n",
    "\n",
    "data_final = raw_data.join(SOS_data)\n",
    "\n",
    "\n",
    "data_final['target_margin'] = data_final['HomeFinal'] - data_final['VisFinal']\n",
    "data_final['HomeConf'] = \"Unkn\"\n",
    "data_final['VisConf'] = \"unkn\"\n",
    "\n",
    "X_train = data_final[(data_final.index.get_level_values(2) < 2016) & (data_final.index.get_level_values(3)  >= 4) & ((data_final['HomeConf'] != 'NotD1') | (data_final['VisConf'] != 'NotD1')) ] [['HomeBCSSOS', 'HomeRPI', 'AwayBCSSOS', 'AwayRPI']]\n",
    "y_train = data_final[(data_final.index.get_level_values(2) <2016) & (data_final.index.get_level_values(3) >= 4) & ((data_final['HomeConf'] != 'NotD1') | (data_final['VisConf'] != 'NotD1')) ]['target_margin']\n",
    "X_test = data_final[(data_final.index.get_level_values(2) >= 2016) & (data_final.index.get_level_values(3) >= 4) & ((data_final['HomeConf'] != 'NotD1') | (data_final['VisConf'] != 'NotD1')) ][['HomeBCSSOS', 'HomeRPI', 'AwayBCSSOS', 'AwayRPI']]\n",
    "y_test = data_final[(data_final.index.get_level_values(2) >= 2016) & (data_final.index.get_level_values(3) >= 4) & ((data_final['HomeConf'] != 'NotD1') | (data_final['VisConf'] != 'NotD1')) ]['target_margin']\n"
   ]
  },
  {
   "cell_type": "code",
   "execution_count": null,
   "metadata": {
    "collapsed": true
   },
   "outputs": [],
   "source": []
  },
  {
   "cell_type": "code",
   "execution_count": 7,
   "metadata": {},
   "outputs": [
    {
     "name": "stdout",
     "output_type": "stream",
     "text": [
      "450.719673308\n",
      "0.0394969436095\n",
      "450.194693265\n",
      "0.0406156987146\n"
     ]
    }
   ],
   "source": [
    "from sklearn.linear_model import LinearRegression, Ridge\n",
    "from sklearn.metrics import mean_squared_error, r2_score\n",
    "from sklearn import svm\n",
    "from sklearn import tree\n",
    "\n",
    "lm = LinearRegression().fit(X_train, y_train)\n",
    "predictions = lm.predict(X_test)\n",
    "print(mean_squared_error(y_test, predictions))\n",
    "print(r2_score(y_test, predictions))\n",
    "\n",
    "model = Ridge (alpha = 11).fit(X_train, y_train)\n",
    "predictions = model.predict(X_test)\n",
    "print(mean_squared_error(y_test, predictions))\n",
    "print(r2_score(y_test, predictions))\n"
   ]
  },
  {
   "cell_type": "code",
   "execution_count": null,
   "metadata": {
    "collapsed": true
   },
   "outputs": [],
   "source": []
  }
 ],
 "metadata": {
  "kernelspec": {
   "display_name": "Python 3",
   "language": "python",
   "name": "python3"
  },
  "language_info": {
   "codemirror_mode": {
    "name": "ipython",
    "version": 3
   },
   "file_extension": ".py",
   "mimetype": "text/x-python",
   "name": "python",
   "nbconvert_exporter": "python",
   "pygments_lexer": "ipython3",
   "version": "3.6.3"
  }
 },
 "nbformat": 4,
 "nbformat_minor": 2
}
