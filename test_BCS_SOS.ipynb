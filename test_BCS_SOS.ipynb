{
 "cells": [
  {
   "cell_type": "code",
   "execution_count": 1,
   "metadata": {
    "collapsed": true
   },
   "outputs": [],
   "source": [
    "import numpy as np\n",
    "import pandas as pd\n",
    "import os"
   ]
  },
  {
   "cell_type": "code",
   "execution_count": 43,
   "metadata": {},
   "outputs": [],
   "source": [
    "root_dir = os.getcwd()\n",
    "data_final = pd.read_csv(os.path.join(root_dir, \"data\", \"allscores-BCS-SOS.csv\"))\n",
    "data_final['target_margin'] = data_final['HomeFinal'] - data_final['VisFinal']\n",
    "\n",
    "X_train = data_final[(data_final['Season'] < 2016) & (data_final['Week'] >= 4) ] [['HomeBCSSOS', 'HomeRPI', 'AwayBCSSOS', 'AwayRPI']]\n",
    "y_train = data_final[(data_final['Season'] <2016) & (data_final['Week'] >= 4)]['target_margin']\n",
    "X_test = data_final[(data_final['Season'] >= 2016) & (data_final['Week'] >= 4)][['HomeBCSSOS', 'HomeRPI', 'AwayBCSSOS', 'AwayRPI']]\n",
    "y_test = data_final[(data_final['Season'] >= 2016) & (data_final['Week'] >= 4)]['target_margin']\n"
   ]
  },
  {
   "cell_type": "code",
   "execution_count": 42,
   "metadata": {},
   "outputs": [
    {
     "data": {
      "text/plain": [
       "(8879,)"
      ]
     },
     "execution_count": 42,
     "metadata": {},
     "output_type": "execute_result"
    }
   ],
   "source": [
    "X_train.shape\n",
    "y_train.shape"
   ]
  },
  {
   "cell_type": "code",
   "execution_count": 33,
   "metadata": {
    "collapsed": true
   },
   "outputs": [],
   "source": [
    "from sklearn.linear_model import *\n",
    "from sklearn.model_selection import *\n",
    "from sklearn.metrics import *"
   ]
  },
  {
   "cell_type": "code",
   "execution_count": null,
   "metadata": {
    "collapsed": true
   },
   "outputs": [],
   "source": []
  },
  {
   "cell_type": "code",
   "execution_count": 66,
   "metadata": {},
   "outputs": [
    {
     "name": "stdout",
     "output_type": "stream",
     "text": [
      "508.0681786163339\n",
      "0.10887274421312232\n",
      "507.27277563607237\n",
      "0.11026784295159375\n"
     ]
    }
   ],
   "source": [
    "from sklearn import svm\n",
    "from sklearn import tree\n",
    "\n",
    "lm = LinearRegression().fit(X_train, y_train)\n",
    "predictions = lm.predict(X_test)\n",
    "print(mean_squared_error(y_test, predictions))\n",
    "print(r2_score(y_test, predictions))\n",
    "\n",
    "model = Ridge (alpha = 11).fit(X_train, y_train)\n",
    "predictions = model.predict(X_test)\n",
    "print(mean_squared_error(y_test, predictions))\n",
    "print(r2_score(y_test, predictions))\n"
   ]
  },
  {
   "cell_type": "code",
   "execution_count": null,
   "metadata": {
    "collapsed": true
   },
   "outputs": [],
   "source": []
  }
 ],
 "metadata": {
  "kernelspec": {
   "display_name": "Python 3",
   "language": "python",
   "name": "python3"
  },
  "language_info": {
   "codemirror_mode": {
    "name": "ipython",
    "version": 3
   },
   "file_extension": ".py",
   "mimetype": "text/x-python",
   "name": "python",
   "nbconvert_exporter": "python",
   "pygments_lexer": "ipython3",
   "version": "3.6.5"
  }
 },
 "nbformat": 4,
 "nbformat_minor": 2
}
