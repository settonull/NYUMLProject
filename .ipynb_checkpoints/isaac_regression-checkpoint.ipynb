{
 "cells": [
  {
   "cell_type": "code",
   "execution_count": 1,
   "metadata": {},
   "outputs": [],
   "source": [
    "import os\n",
    "\n",
    "import numpy as np\n",
    "import pandas as pd\n",
    "import seaborn as sns\n",
    "import matplotlib.pyplot as plt\n",
    "\n",
    "from sklearn.metrics import mean_squared_error\n",
    "from sklearn.metrics import make_scorer\n",
    "from sklearn.preprocessing import StandardScaler\n",
    "from sklearn.kernel_ridge import KernelRidge\n",
    "from sklearn.linear_model import LinearRegression\n",
    "from sklearn.model_selection import GridSearchCV\n",
    "from sklearn.model_selection import PredefinedSplit\n",
    "from sklearn.model_selection import train_test_split\n",
    "\n",
    "%matplotlib inline"
   ]
  },
  {
   "cell_type": "code",
   "execution_count": 2,
   "metadata": {},
   "outputs": [
    {
     "data": {
      "text/plain": [
       "415.4627773651895"
      ]
     },
     "execution_count": 2,
     "metadata": {},
     "output_type": "execute_result"
    }
   ],
   "source": [
    "root_dir = os.getcwd()\n",
    "ctmc_dir = 'ctmc'\n",
    "glicko_dir = 'glicko'\n",
    "curseason_dir = 'curseason'\n",
    "scorepreds_dir = 'scorepreds'\n",
    "ultimate_dir = 'ultimate'\n",
    "scores_pe_dir = 'scores_pe'\n",
    "bcs_dir = 'BCS'\n",
    "conf_dir = 'conferences'\n",
    "data_dir = os.path.join(root_dir, \"data\")\n",
    "\n",
    "##### IJH Data\n",
    "file = os.path.join(data_dir, ultimate_dir, \"ultimate_2.csv\")\n",
    "scores_pe_df = pd.read_csv(file)\n",
    "scores_pe_df = scores_pe_df.set_index(['HomeID', 'VisID', 'Season', 'Week'])\n",
    "scores_pe_df['target_margin'] = scores_pe_df['HomeFinal'] - scores_pe_df['VisFinal']\n",
    "scores_pe_df = scores_pe_df[['HomeElo', 'HomeEloProb','HomeLuck','HomePrevLuck',\n",
    "                            'HomePythPct','HomePythWins','HomeWinPct','VisElo',\n",
    "                            'VisEloProb','VisLuck', 'VisPrevLuck','VisPythPct',\n",
    "                            'VisPythWins','VisWinPct','SpreadElo','HomeConf_NotMajor',\n",
    "                            'VisConf_NotMajor','target_margin','HomeFinal','VisFinal']]\n",
    "scores_pe_df = scores_pe_df.drop_duplicates()\n",
    "\n",
    "######## SWC Data\n",
    "file = os.path.join(data_dir, ctmc_dir, \"scores_ctmc_ultimate_data_final.csv\")\n",
    "scores_ctmc_df = pd.read_csv(file,index_col=[0,1,2,3]).drop_duplicates()\n",
    "scores_ctmc_df.index.names = ['HomeID', 'VisID', 'Season', 'Week']\n",
    "file = os.path.join(data_dir, glicko_dir, \"glicko_ultimate_data_final.csv\")\n",
    "glicko_df = pd.read_csv(file, index_col=[0,1,2,3]).drop_duplicates()\n",
    "glicko_df.index.names = ['HomeID', 'VisID', 'Season', 'Week']\n",
    "file = os.path.join(data_dir, curseason_dir, \"curseason.csv\")\n",
    "curseason_df = pd.read_csv(file, index_col=[0,1,2,3]).drop_duplicates()\n",
    "file = os.path.join(data_dir, scorepreds_dir, \"scorepreds.csv\")\n",
    "scorepreds_df = pd.read_csv(file, index_col=[0,1,2,3]).drop_duplicates()\n",
    "\n",
    "# Join SC Data\n",
    "data_final = scores_pe_df.join(scores_ctmc_df, how='left')\n",
    "data_final = data_final.join(glicko_df)\n",
    "data_final = data_final.join(curseason_df)\n",
    "data_final = data_final.join(scorepreds_df, how='left')\n",
    "\n",
    "##### CDR Data\n",
    "file = os.path.join(data_dir, bcs_dir, \"BCS-SOS.csv\")\n",
    "bcs_df = pd.read_csv(file).drop_duplicates()\n",
    "bcs_df = bcs_df.set_index(['HomeID', 'VisID', 'Season', 'Week'])\n",
    "\n",
    "# Join CDR Data\n",
    "data_final = data_final.join(bcs_df)\n",
    "\n",
    "# Join Conference Data\n",
    "file = os.path.join(data_dir, conf_dir, \"mergedConferences.csv\")\n",
    "conf_df = pd.read_csv(file).drop_duplicates()\n",
    "data_final = data_final.reset_index().merge(conf_df,\n",
    "                                            left_on=['HomeID', 'Season'],\n",
    "                                            right_on=['ID','Year'],\n",
    "                                            suffixes=('','Home'))\n",
    "data_final = data_final.reset_index().merge(conf_df,\n",
    "                                            left_on=['VisID', 'Season'],\n",
    "                                            right_on=['ID','Year'],\n",
    "                                            suffixes=('','Vis'))\n",
    "data_final = data_final.set_index(['HomeID', 'VisID', 'Season', 'Week'])\n",
    "data_final = data_final.drop(['ID','Year','IDVis','index'],1)\n",
    "\n",
    "# Impute HomeConf Data\n",
    "data_final['HomeConf_NotMajor'] = data_final['HomeConf_NotMajor'].fillna(0)\n",
    "\n",
    "################################################################################\n",
    "# Train - Val - Test Splits\n",
    "################################################################################\n",
    "\n",
    "X_train = data_final[(data_final.index.get_level_values(2)<2016) & \\\n",
    "                     (data_final['Conf']!='NotMajor') &\n",
    "                     (data_final.index.get_level_values(3)>4)].\\\n",
    "                                       drop(['target_margin'], axis=1).\\\n",
    "                                       fillna(data_final.mean())\n",
    "y_train = data_final[(data_final.index.get_level_values(2)<2016) & \\\n",
    "                     (data_final['Conf']!='NotMajor') & \\\n",
    "                     (data_final.index.get_level_values(3)>4)]['target_margin']\n",
    "\n",
    "X_val = data_final[(data_final.index.get_level_values(2)==2016) & \\\n",
    "                   (data_final['Conf']!='NotMajor') & \\\n",
    "                   (data_final.index.get_level_values(3)>4)].\\\n",
    "                                     drop(['target_margin'], axis=1).\\\n",
    "                                     fillna(data_final.mean())\n",
    "y_val = data_final[(data_final.index.get_level_values(2)==2016) & \\\n",
    "                   (data_final['Conf']!='NotMajor') & \\\n",
    "                   (data_final.index.get_level_values(3)>4)]['target_margin']\n",
    "\n",
    "X_test = data_final[(data_final.index.get_level_values(2)==2017) & \\\n",
    "                    (data_final['Conf']!='NotMajor') & \\\n",
    "                    (data_final.index.get_level_values(3)>4)].\\\n",
    "                                      drop(['target_margin'], axis=1).\\\n",
    "                                      fillna(data_final.mean())\n",
    "y_test = data_final[(data_final.index.get_level_values(2)==2017) & \\\n",
    "                    (data_final['Conf']!='NotMajor') & \\\n",
    "                    (data_final.index.get_level_values(3)>4)]['target_margin']\n",
    "\n",
    "################################################################################\n",
    "# Final Feature Selection\n",
    "################################################################################\n",
    "\n",
    "base_featurestouse = [col for col in data_final.columns if \\\n",
    "                      col.find('InSeason') > -1]\n",
    "\n",
    "swc_featurestouse = ['Glicko_Rating_Home', 'Glicko_Rating_Away',\n",
    "                     'Glicko_Rating_Deviance_Home', 'Glicko_Rating_Deviance_Away',\n",
    "                     'Glicko_Sigma_Home', 'Glicko_Sigma_Away',\n",
    "                     'CTMC_Rating_Home', 'CTMC_Rating_Away','HomePredFinal',\n",
    "                     'VisPredFinal','CurSeason_HH_VA_mean_margin']\n",
    "\n",
    "ijh_featurestouse = ['HomeElo', 'HomeEloProb','HomeLuck','HomePrevLuck',\n",
    "                    'HomePythPct','HomePythWins','HomeWinPct','VisElo',\n",
    "                    'VisEloProb','VisLuck', 'VisPrevLuck','VisPythPct',\n",
    "                    'VisPythWins','VisWinPct','SpreadElo','HomeConf_NotMajor',\n",
    "                    'VisConf_NotMajor']\n",
    "\n",
    "cdr_featurestouse = bcs_df.columns.values.tolist()\n",
    "\n",
    "# featurestouse = base_featurestouse + swc_featurestouse + ijh_featurestouse + cdr_featurestouse\n",
    "featurestouse = swc_featurestouse + ijh_featurestouse + cdr_featurestouse\n",
    "\n",
    "################################################################################\n",
    "# Baseline Model\n",
    "################################################################################\n",
    "\n",
    "# Current season average margins diff\n",
    "X_train['CurSeason_HH_VA_mean_margin'] = (X_train['SpreadHomeInSeasonAvg'] \\\n",
    "                                    - X_train['SpreadVisInSeasonAvg']*-1)\n",
    "X_val['CurSeason_HH_VA_mean_margin'] = (X_val['SpreadHomeInSeasonAvg'] \\\n",
    "                                        - X_val['SpreadVisInSeasonAvg']*-1)\n",
    "X_test['CurSeason_HH_VA_mean_margin'] = (X_test['SpreadHomeInSeasonAvg'] \\\n",
    "                                        - X_test['SpreadVisInSeasonAvg']*-1)\n",
    "\n",
    "# Train and report baseline model with current season metric\n",
    "ols = LinearRegression()\n",
    "ols.fit(X_train['CurSeason_HH_VA_mean_margin'].values.reshape(-1,1), y_train)\n",
    "ols.score(X_train['CurSeason_HH_VA_mean_margin'].values.reshape(-1,1), y_train)\n",
    "ols.score(X_val['CurSeason_HH_VA_mean_margin'].values.reshape(-1,1), y_val)\n",
    "preds = ols.predict(X_val['CurSeason_HH_VA_mean_margin'].values.reshape(-1,1))\n",
    "mean_squared_error(preds, y_val)"
   ]
  },
  {
   "cell_type": "code",
   "execution_count": 3,
   "metadata": {},
   "outputs": [],
   "source": [
    "standardscaler = StandardScaler()\n",
    "X_trainscaled = standardscaler.fit_transform(X_train[featurestouse])\n",
    "X_valscaled = standardscaler.transform(X_val[featurestouse])\n",
    "X_testscaled = standardscaler.transform(X_test[featurestouse])"
   ]
  },
  {
   "cell_type": "code",
   "execution_count": 79,
   "metadata": {},
   "outputs": [],
   "source": [
    "from sklearn.metrics import roc_auc_score\n",
    "from sklearn.linear_model import LogisticRegression #penalty, C, \n",
    "from sklearn.linear_model import ElasticNet #alpha, l1_ratio, warm_start, \n",
    "from sklearn.svm import SVC #C, kernel, degree-polynomial, gamma, \n",
    "from sklearn.ensemble import RandomForestClassifier \n",
    "from sklearn.ensemble import GradientBoostingClassifier"
   ]
  },
  {
   "cell_type": "code",
   "execution_count": 5,
   "metadata": {},
   "outputs": [],
   "source": [
    "data_final['HomeWin'] = data_final.apply(lambda x: 1 if x['target_margin'] > 0 else 0, axis=1)\n",
    "X_trainC = data_final[(data_final.index.get_level_values(2)<2016) & \\\n",
    "                     (data_final['Conf']!='NotMajor') &\n",
    "                     (data_final.index.get_level_values(3)>4)].\\\n",
    "                                       drop(['target_margin', 'HomeWin'], axis=1).\\\n",
    "                                       fillna(data_final.mean())\n",
    "y_trainC = data_final[(data_final.index.get_level_values(2)<2016) & \\\n",
    "                     (data_final['Conf']!='NotMajor') & \\\n",
    "                     (data_final.index.get_level_values(3)>4)]['HomeWin']\n",
    "\n",
    "X_valC = data_final[(data_final.index.get_level_values(2)==2016) & \\\n",
    "                   (data_final['Conf']!='NotMajor') & \\\n",
    "                   (data_final.index.get_level_values(3)>4)].\\\n",
    "                                     drop(['target_margin', 'HomeWin'], axis=1).\\\n",
    "                                     fillna(data_final.mean())\n",
    "y_valC = data_final[(data_final.index.get_level_values(2)==2016) & \\\n",
    "                   (data_final['Conf']!='NotMajor') & \\\n",
    "                   (data_final.index.get_level_values(3)>4)]['HomeWin']\n",
    "\n",
    "X_testC = data_final[(data_final.index.get_level_values(2)==2017) & \\\n",
    "                    (data_final['Conf']!='NotMajor') & \\\n",
    "                    (data_final.index.get_level_values(3)>4)].\\\n",
    "                                      drop(['target_margin', 'HomeWin'], axis=1).\\\n",
    "                                      fillna(data_final.mean())\n",
    "y_testC = data_final[(data_final.index.get_level_values(2)==2017) & \\\n",
    "                    (data_final['Conf']!='NotMajor') & \\\n",
    "                    (data_final.index.get_level_values(3)>4)]['HomeWin']\n",
    "\n",
    "# Current season average margins diff\n",
    "X_trainC['CurSeason_HH_VA_mean_margin'] = (X_trainC['SpreadHomeInSeasonAvg'] \\\n",
    "                                    - X_trainC['SpreadVisInSeasonAvg']*-1)\n",
    "X_valC['CurSeason_HH_VA_mean_margin'] = (X_valC['SpreadHomeInSeasonAvg'] \\\n",
    "                                        - X_valC['SpreadVisInSeasonAvg']*-1)\n",
    "X_testC['CurSeason_HH_VA_mean_margin'] = (X_testC['SpreadHomeInSeasonAvg'] \\\n",
    "                                        - X_testC['SpreadVisInSeasonAvg']*-1)\n",
    "\n",
    "\n",
    "\n",
    "standardscaler = StandardScaler()\n",
    "X_trainscaledC = standardscaler.fit_transform(X_trainC[featurestouse])\n",
    "X_valscaledC = standardscaler.transform(X_valC[featurestouse])\n",
    "X_testscaledC = standardscaler.transform(X_testC[featurestouse])\n"
   ]
  },
  {
   "cell_type": "code",
   "execution_count": null,
   "metadata": {},
   "outputs": [],
   "source": [
    "X_trainC2 = X_trainscaledC.copy()\n",
    "X_valC2 = X_valscaledC.copy()\n",
    "X_testC2 = X_testscaledC.copy()"
   ]
  },
  {
   "cell_type": "code",
   "execution_count": 112,
   "metadata": {},
   "outputs": [],
   "source": [
    "def doGridSearchC(X_train, y_train, X_val, y_val, model, param_grid):\n",
    "    X_train_val = np.vstack((X_train, X_val))\n",
    "    y_train_val = np.concatenate((y_train, y_val))\n",
    "    val_fold = [-1]*len(X_train) + [0]*len(X_val) #0 corresponds to validation\n",
    "    estimator = model.fit(X_train, y_train)\n",
    "    grid = GridSearchCV(estimator,\n",
    "                        param_grid,\n",
    "                        return_train_score=False,\n",
    "                        cv = PredefinedSplit(test_fold=val_fold),\n",
    "                        refit = True,\n",
    "                        scoring = make_scorer(roc_auc_score,\n",
    "                                              greater_is_better = True))\n",
    "    grid.fit(X_train_val, y_train_val)\n",
    "    return grid.best_estimator_\n",
    "\n",
    "dataDict = {'X_train':X_trainscaledC, 'X_val':X_valscaledC, \n",
    "            'y_trainC':y_trainC, 'y_valC':y_valC, 'y_train':y_train, 'y_val':y_val}\n",
    "\n",
    "def chainGridSearch(name, estimator, param_gridC, param_gridR, dataDict=dataDict):\n",
    "\n",
    "    X_trainC2 = dataDict['X_train'].copy()\n",
    "    X_valC2 = dataDict['X_val'].copy()\n",
    "    \n",
    "    clssifer = doGridSearchC(X_trainC2, dataDict['y_trainC'], X_valC2, dataDict['y_valC'], estimator, param_gridC)\n",
    "    clssifer = clssifer.fit(dataDict['X_train'], dataDict['y_trainC'])\n",
    "    predsTrain = clssifer.predict_proba(X_trainC2)[:,1]\n",
    "    predsVal = clssifer.predict_proba(X_valC2)[:,1]\n",
    "    print(name, roc_auc_score(dataDict['y_valC'], predsVal))\n",
    "\n",
    "    X_trainC2 = np.concatenate((X_trainC2, predsTrain.reshape(-1,1)), 1)\n",
    "    X_trainC2 = np.concatenate((X_trainC2, np.where(predsTrain >0.5, 1, 0).reshape(-1,1)), 1)\n",
    "    X_valC2 = np.concatenate((X_valC2, predsVal.reshape(-1,1)), 1)\n",
    "    X_valC2 = np.concatenate((X_valC2, np.where(predsVal >0.5, 1, 0).reshape(-1,1)), 1)\n",
    "\n",
    "    regrssor = doGridSearchC(X_trainC2, dataDict['y_trainC'], X_valC2, dataDict['y_valC'], KernelRidge(kernel='rbf'), param_gridR)\n",
    "    regrssor = regrssor.fit(X_trainC2, dataDict['y_train'])\n",
    "    predsReg = reg.predict(X_valC2)\n",
    "    print(name, mean_squared_error(dataDict['y_val'], predsReg))\n",
    "    return(clssifer)"
   ]
  },
  {
   "cell_type": "code",
   "execution_count": 107,
   "metadata": {},
   "outputs": [
    {
     "data": {
      "text/plain": [
       "array([1, 1, 1, ..., 0, 0, 1])"
      ]
     },
     "execution_count": 107,
     "metadata": {},
     "output_type": "execute_result"
    }
   ],
   "source": [
    "X_trainC2 = dataDict['X_train'].copy()\n",
    "predsTrain = logit.predict_proba(X_trainC2)[:,1]\n",
    "np.where(predsTrain >0.5, 1, 0)"
   ]
  },
  {
   "cell_type": "code",
   "execution_count": 101,
   "metadata": {
    "scrolled": true
   },
   "outputs": [
    {
     "data": {
      "text/plain": [
       "['Glicko_Rating_Home',\n",
       " 'Glicko_Rating_Away',\n",
       " 'Glicko_Rating_Deviance_Home',\n",
       " 'Glicko_Rating_Deviance_Away',\n",
       " 'Glicko_Sigma_Home',\n",
       " 'Glicko_Sigma_Away',\n",
       " 'CTMC_Rating_Home',\n",
       " 'CTMC_Rating_Away',\n",
       " 'HomePredFinal',\n",
       " 'VisPredFinal',\n",
       " 'CurSeason_HH_VA_mean_margin',\n",
       " 'HomeElo',\n",
       " 'HomeEloProb',\n",
       " 'HomeLuck',\n",
       " 'HomePrevLuck',\n",
       " 'HomePythPct',\n",
       " 'HomePythWins',\n",
       " 'HomeWinPct',\n",
       " 'VisElo',\n",
       " 'VisEloProb',\n",
       " 'VisLuck',\n",
       " 'VisPrevLuck',\n",
       " 'VisPythPct',\n",
       " 'VisPythWins',\n",
       " 'VisWinPct',\n",
       " 'SpreadElo',\n",
       " 'HomeConf_NotMajor',\n",
       " 'VisConf_NotMajor',\n",
       " 'HomeBCSSOS',\n",
       " 'HomeRPI',\n",
       " 'AwayBCSSOS',\n",
       " 'AwayRPI']"
      ]
     },
     "execution_count": 101,
     "metadata": {},
     "output_type": "execute_result"
    }
   ],
   "source": [
    "featurestouse"
   ]
  },
  {
   "cell_type": "code",
   "execution_count": 111,
   "metadata": {},
   "outputs": [
    {
     "name": "stdout",
     "output_type": "stream",
     "text": [
      "Logit 0.8205505913089398\n"
     ]
    },
    {
     "ename": "ValueError",
     "evalue": "Incompatible dimension for X and Y matrices: X.shape[1] == 34 while Y.shape[1] == 33",
     "output_type": "error",
     "traceback": [
      "\u001b[1;31m---------------------------------------------------------------------------\u001b[0m",
      "\u001b[1;31mValueError\u001b[0m                                Traceback (most recent call last)",
      "\u001b[1;32m<ipython-input-111-250532fc52e7>\u001b[0m in \u001b[0;36m<module>\u001b[1;34m()\u001b[0m\n\u001b[0;32m      3\u001b[0m                         [{'alpha':10**np.arange(-5, 1, 1.0),\n\u001b[0;32m      4\u001b[0m                           'gamma':10**np.arange(-5, 1, 1.0)}],\n\u001b[1;32m----> 5\u001b[1;33m                         dataDict)\n\u001b[0m\u001b[0;32m      6\u001b[0m \u001b[0mlogit\u001b[0m\u001b[1;33m\u001b[0m\u001b[0m\n",
      "\u001b[1;32m<ipython-input-110-78825082be63>\u001b[0m in \u001b[0;36mchainGridSearch\u001b[1;34m(name, estimator, param_gridC, param_gridR, dataDict)\u001b[0m\n\u001b[0;32m     35\u001b[0m     \u001b[0mregrssor\u001b[0m \u001b[1;33m=\u001b[0m \u001b[0mdoGridSearchC\u001b[0m\u001b[1;33m(\u001b[0m\u001b[0mX_trainC2\u001b[0m\u001b[1;33m,\u001b[0m \u001b[0mdataDict\u001b[0m\u001b[1;33m[\u001b[0m\u001b[1;34m'y_trainC'\u001b[0m\u001b[1;33m]\u001b[0m\u001b[1;33m,\u001b[0m \u001b[0mX_valC2\u001b[0m\u001b[1;33m,\u001b[0m \u001b[0mdataDict\u001b[0m\u001b[1;33m[\u001b[0m\u001b[1;34m'y_valC'\u001b[0m\u001b[1;33m]\u001b[0m\u001b[1;33m,\u001b[0m \u001b[0mKernelRidge\u001b[0m\u001b[1;33m(\u001b[0m\u001b[0mkernel\u001b[0m\u001b[1;33m=\u001b[0m\u001b[1;34m'rbf'\u001b[0m\u001b[1;33m)\u001b[0m\u001b[1;33m,\u001b[0m \u001b[0mparam_gridR\u001b[0m\u001b[1;33m)\u001b[0m\u001b[1;33m\u001b[0m\u001b[0m\n\u001b[0;32m     36\u001b[0m     \u001b[0mregrssor\u001b[0m\u001b[1;33m.\u001b[0m\u001b[0mfit\u001b[0m\u001b[1;33m(\u001b[0m\u001b[0mX_trainC2\u001b[0m\u001b[1;33m,\u001b[0m \u001b[0mdataDict\u001b[0m\u001b[1;33m[\u001b[0m\u001b[1;34m'y_train'\u001b[0m\u001b[1;33m]\u001b[0m\u001b[1;33m)\u001b[0m\u001b[1;33m\u001b[0m\u001b[0m\n\u001b[1;32m---> 37\u001b[1;33m     \u001b[0mpredsReg\u001b[0m \u001b[1;33m=\u001b[0m \u001b[0mreg\u001b[0m\u001b[1;33m.\u001b[0m\u001b[0mpredict\u001b[0m\u001b[1;33m(\u001b[0m\u001b[0mX_valC2\u001b[0m\u001b[1;33m)\u001b[0m\u001b[1;33m\u001b[0m\u001b[0m\n\u001b[0m\u001b[0;32m     38\u001b[0m     \u001b[0mprint\u001b[0m\u001b[1;33m(\u001b[0m\u001b[0mname\u001b[0m\u001b[1;33m,\u001b[0m \u001b[0mmean_squared_error\u001b[0m\u001b[1;33m(\u001b[0m\u001b[0mdataDict\u001b[0m\u001b[1;33m[\u001b[0m\u001b[1;34m'y_val'\u001b[0m\u001b[1;33m]\u001b[0m\u001b[1;33m,\u001b[0m \u001b[0mpredsReg\u001b[0m\u001b[1;33m)\u001b[0m\u001b[1;33m)\u001b[0m\u001b[1;33m\u001b[0m\u001b[0m\n\u001b[0;32m     39\u001b[0m     \u001b[1;32mreturn\u001b[0m\u001b[1;33m(\u001b[0m\u001b[0mclssifer\u001b[0m\u001b[1;33m)\u001b[0m\u001b[1;33m\u001b[0m\u001b[0m\n",
      "\u001b[1;32mC:\\ProgramData\\Anaconda3\\lib\\site-packages\\sklearn\\kernel_ridge.py\u001b[0m in \u001b[0;36mpredict\u001b[1;34m(self, X)\u001b[0m\n\u001b[0;32m    182\u001b[0m         \"\"\"\n\u001b[0;32m    183\u001b[0m         \u001b[0mcheck_is_fitted\u001b[0m\u001b[1;33m(\u001b[0m\u001b[0mself\u001b[0m\u001b[1;33m,\u001b[0m \u001b[1;33m[\u001b[0m\u001b[1;34m\"X_fit_\"\u001b[0m\u001b[1;33m,\u001b[0m \u001b[1;34m\"dual_coef_\"\u001b[0m\u001b[1;33m]\u001b[0m\u001b[1;33m)\u001b[0m\u001b[1;33m\u001b[0m\u001b[0m\n\u001b[1;32m--> 184\u001b[1;33m         \u001b[0mK\u001b[0m \u001b[1;33m=\u001b[0m \u001b[0mself\u001b[0m\u001b[1;33m.\u001b[0m\u001b[0m_get_kernel\u001b[0m\u001b[1;33m(\u001b[0m\u001b[0mX\u001b[0m\u001b[1;33m,\u001b[0m \u001b[0mself\u001b[0m\u001b[1;33m.\u001b[0m\u001b[0mX_fit_\u001b[0m\u001b[1;33m)\u001b[0m\u001b[1;33m\u001b[0m\u001b[0m\n\u001b[0m\u001b[0;32m    185\u001b[0m         \u001b[1;32mreturn\u001b[0m \u001b[0mnp\u001b[0m\u001b[1;33m.\u001b[0m\u001b[0mdot\u001b[0m\u001b[1;33m(\u001b[0m\u001b[0mK\u001b[0m\u001b[1;33m,\u001b[0m \u001b[0mself\u001b[0m\u001b[1;33m.\u001b[0m\u001b[0mdual_coef_\u001b[0m\u001b[1;33m)\u001b[0m\u001b[1;33m\u001b[0m\u001b[0m\n",
      "\u001b[1;32mC:\\ProgramData\\Anaconda3\\lib\\site-packages\\sklearn\\kernel_ridge.py\u001b[0m in \u001b[0;36m_get_kernel\u001b[1;34m(self, X, Y)\u001b[0m\n\u001b[0;32m    119\u001b[0m                       \"coef0\": self.coef0}\n\u001b[0;32m    120\u001b[0m         return pairwise_kernels(X, Y, metric=self.kernel,\n\u001b[1;32m--> 121\u001b[1;33m                                 filter_params=True, **params)\n\u001b[0m\u001b[0;32m    122\u001b[0m \u001b[1;33m\u001b[0m\u001b[0m\n\u001b[0;32m    123\u001b[0m     \u001b[1;33m@\u001b[0m\u001b[0mproperty\u001b[0m\u001b[1;33m\u001b[0m\u001b[0m\n",
      "\u001b[1;32mC:\\ProgramData\\Anaconda3\\lib\\site-packages\\sklearn\\metrics\\pairwise.py\u001b[0m in \u001b[0;36mpairwise_kernels\u001b[1;34m(X, Y, metric, filter_params, n_jobs, **kwds)\u001b[0m\n\u001b[0;32m   1403\u001b[0m         \u001b[1;32mraise\u001b[0m \u001b[0mValueError\u001b[0m\u001b[1;33m(\u001b[0m\u001b[1;34m\"Unknown kernel %r\"\u001b[0m \u001b[1;33m%\u001b[0m \u001b[0mmetric\u001b[0m\u001b[1;33m)\u001b[0m\u001b[1;33m\u001b[0m\u001b[0m\n\u001b[0;32m   1404\u001b[0m \u001b[1;33m\u001b[0m\u001b[0m\n\u001b[1;32m-> 1405\u001b[1;33m     \u001b[1;32mreturn\u001b[0m \u001b[0m_parallel_pairwise\u001b[0m\u001b[1;33m(\u001b[0m\u001b[0mX\u001b[0m\u001b[1;33m,\u001b[0m \u001b[0mY\u001b[0m\u001b[1;33m,\u001b[0m \u001b[0mfunc\u001b[0m\u001b[1;33m,\u001b[0m \u001b[0mn_jobs\u001b[0m\u001b[1;33m,\u001b[0m \u001b[1;33m**\u001b[0m\u001b[0mkwds\u001b[0m\u001b[1;33m)\u001b[0m\u001b[1;33m\u001b[0m\u001b[0m\n\u001b[0m",
      "\u001b[1;32mC:\\ProgramData\\Anaconda3\\lib\\site-packages\\sklearn\\metrics\\pairwise.py\u001b[0m in \u001b[0;36m_parallel_pairwise\u001b[1;34m(X, Y, func, n_jobs, **kwds)\u001b[0m\n\u001b[0;32m   1088\u001b[0m     \u001b[1;32mif\u001b[0m \u001b[0mn_jobs\u001b[0m \u001b[1;33m==\u001b[0m \u001b[1;36m1\u001b[0m\u001b[1;33m:\u001b[0m\u001b[1;33m\u001b[0m\u001b[0m\n\u001b[0;32m   1089\u001b[0m         \u001b[1;31m# Special case to avoid picklability checks in delayed\u001b[0m\u001b[1;33m\u001b[0m\u001b[1;33m\u001b[0m\u001b[0m\n\u001b[1;32m-> 1090\u001b[1;33m         \u001b[1;32mreturn\u001b[0m \u001b[0mfunc\u001b[0m\u001b[1;33m(\u001b[0m\u001b[0mX\u001b[0m\u001b[1;33m,\u001b[0m \u001b[0mY\u001b[0m\u001b[1;33m,\u001b[0m \u001b[1;33m**\u001b[0m\u001b[0mkwds\u001b[0m\u001b[1;33m)\u001b[0m\u001b[1;33m\u001b[0m\u001b[0m\n\u001b[0m\u001b[0;32m   1091\u001b[0m \u001b[1;33m\u001b[0m\u001b[0m\n\u001b[0;32m   1092\u001b[0m     \u001b[1;31m# TODO: in some cases, backend='threading' may be appropriate\u001b[0m\u001b[1;33m\u001b[0m\u001b[1;33m\u001b[0m\u001b[0m\n",
      "\u001b[1;32mC:\\ProgramData\\Anaconda3\\lib\\site-packages\\sklearn\\metrics\\pairwise.py\u001b[0m in \u001b[0;36mrbf_kernel\u001b[1;34m(X, Y, gamma)\u001b[0m\n\u001b[0;32m    836\u001b[0m     \u001b[0mkernel_matrix\u001b[0m \u001b[1;33m:\u001b[0m \u001b[0marray\u001b[0m \u001b[0mof\u001b[0m \u001b[0mshape\u001b[0m \u001b[1;33m(\u001b[0m\u001b[0mn_samples_X\u001b[0m\u001b[1;33m,\u001b[0m \u001b[0mn_samples_Y\u001b[0m\u001b[1;33m)\u001b[0m\u001b[1;33m\u001b[0m\u001b[0m\n\u001b[0;32m    837\u001b[0m     \"\"\"\n\u001b[1;32m--> 838\u001b[1;33m     \u001b[0mX\u001b[0m\u001b[1;33m,\u001b[0m \u001b[0mY\u001b[0m \u001b[1;33m=\u001b[0m \u001b[0mcheck_pairwise_arrays\u001b[0m\u001b[1;33m(\u001b[0m\u001b[0mX\u001b[0m\u001b[1;33m,\u001b[0m \u001b[0mY\u001b[0m\u001b[1;33m)\u001b[0m\u001b[1;33m\u001b[0m\u001b[0m\n\u001b[0m\u001b[0;32m    839\u001b[0m     \u001b[1;32mif\u001b[0m \u001b[0mgamma\u001b[0m \u001b[1;32mis\u001b[0m \u001b[1;32mNone\u001b[0m\u001b[1;33m:\u001b[0m\u001b[1;33m\u001b[0m\u001b[0m\n\u001b[0;32m    840\u001b[0m         \u001b[0mgamma\u001b[0m \u001b[1;33m=\u001b[0m \u001b[1;36m1.0\u001b[0m \u001b[1;33m/\u001b[0m \u001b[0mX\u001b[0m\u001b[1;33m.\u001b[0m\u001b[0mshape\u001b[0m\u001b[1;33m[\u001b[0m\u001b[1;36m1\u001b[0m\u001b[1;33m]\u001b[0m\u001b[1;33m\u001b[0m\u001b[0m\n",
      "\u001b[1;32mC:\\ProgramData\\Anaconda3\\lib\\site-packages\\sklearn\\metrics\\pairwise.py\u001b[0m in \u001b[0;36mcheck_pairwise_arrays\u001b[1;34m(X, Y, precomputed, dtype)\u001b[0m\n\u001b[0;32m    121\u001b[0m         raise ValueError(\"Incompatible dimension for X and Y matrices: \"\n\u001b[0;32m    122\u001b[0m                          \"X.shape[1] == %d while Y.shape[1] == %d\" % (\n\u001b[1;32m--> 123\u001b[1;33m                              X.shape[1], Y.shape[1]))\n\u001b[0m\u001b[0;32m    124\u001b[0m \u001b[1;33m\u001b[0m\u001b[0m\n\u001b[0;32m    125\u001b[0m     \u001b[1;32mreturn\u001b[0m \u001b[0mX\u001b[0m\u001b[1;33m,\u001b[0m \u001b[0mY\u001b[0m\u001b[1;33m\u001b[0m\u001b[0m\n",
      "\u001b[1;31mValueError\u001b[0m: Incompatible dimension for X and Y matrices: X.shape[1] == 34 while Y.shape[1] == 33"
     ]
    }
   ],
   "source": [
    "logit = chainGridSearch('Logit', LogisticRegression(), \n",
    "                        [{'C':10**np.arange(-5, 3, 0.25)}], \n",
    "                        [{'alpha':10**np.arange(-5, 1, 1.0),\n",
    "                          'gamma':10**np.arange(-5, 1, 1.0)}],\n",
    "                        dataDict)\n",
    "logit"
   ]
  },
  {
   "cell_type": "code",
   "execution_count": 92,
   "metadata": {},
   "outputs": [
    {
     "name": "stdout",
     "output_type": "stream",
     "text": [
      "RFC 0.8031795883767144\n",
      "RFC 295.7245718885387\n"
     ]
    },
    {
     "data": {
      "text/plain": [
       "RandomForestClassifier(bootstrap=True, class_weight=None, criterion='entropy',\n",
       "            max_depth=None, max_features='auto', max_leaf_nodes=None,\n",
       "            min_impurity_decrease=0.0, min_impurity_split=None,\n",
       "            min_samples_leaf=20, min_samples_split=15,\n",
       "            min_weight_fraction_leaf=0.0, n_estimators=60, n_jobs=1,\n",
       "            oob_score=False, random_state=None, verbose=0,\n",
       "            warm_start=False)"
      ]
     },
     "execution_count": 92,
     "metadata": {},
     "output_type": "execute_result"
    }
   ],
   "source": [
    "rfc = chainGridSearch('RFC', RandomForestClassifier(criterion='entropy', n_estimators=60, min_samples_split=15), \n",
    "                      [{'min_samples_leaf':np.arange(5,50,5)}], \n",
    "                      [{'alpha':10**np.arange(-5, 1, 1.0),\n",
    "                        'gamma':10**np.arange(-5, 1, 1.0)}],\n",
    "                      dataDict)\n",
    "rfc"
   ]
  },
  {
   "cell_type": "code",
   "execution_count": 93,
   "metadata": {},
   "outputs": [
    {
     "name": "stdout",
     "output_type": "stream",
     "text": [
      "GBC 0.8054447671590768\n",
      "GBC 334.5836944057731\n"
     ]
    }
   ],
   "source": [
    "gbc = chainGridSearch('GBC', GradientBoostingClassifier(n_estimators=900), \n",
    "                      [{'min_samples_split':np.arange(5,50,50)}], \n",
    "                      [{'alpha':10**np.arange(-5, 1, 1.0),\n",
    "                          'gamma':10**np.arange(-5, 1, 1.0)}],\n",
    "                      dataDict)"
   ]
  }
 ],
 "metadata": {
  "kernelspec": {
   "display_name": "Python 3",
   "language": "python",
   "name": "python3"
  },
  "language_info": {
   "codemirror_mode": {
    "name": "ipython",
    "version": 3
   },
   "file_extension": ".py",
   "mimetype": "text/x-python",
   "name": "python",
   "nbconvert_exporter": "python",
   "pygments_lexer": "ipython3",
   "version": "3.6.4"
  }
 },
 "nbformat": 4,
 "nbformat_minor": 2
}
